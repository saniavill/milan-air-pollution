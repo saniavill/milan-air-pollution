{
 "cells": [
  {
   "cell_type": "markdown",
   "id": "ee52d255-84ec-41e0-849e-8f94f27ce7b6",
   "metadata": {},
   "source": [
    "### Milan's Air Quality Analysis"
   ]
  },
  {
   "cell_type": "markdown",
   "id": "7ee406b0-5cb7-4a0e-8c47-dacd45f735c1",
   "metadata": {},
   "source": [
    "Milan faces significant air pollution challenges, particularly due to its location in the Po Plain, a region known for heavy industry and urbanization. The city frequently experiences high levels of PM2.5 (fine particulate matter), exceeding World Health Organization limits and leading to health concerns for residents. PM2.5 concentration is currently 2.2 times the World Health Organization annual PM2.5 guideline value. While Milan has implemented measures like traffic restrictions and investing in cleaner transportation, geographical factors and the concentration of industrial and agricultural activities continue to contribute to the problem. <br>\n",
    "In this project I intend to delve deeper into this phenomenona and illustrate the following:\n",
    "* Descriptive Analysis.\n",
    "* Health & Policy Relevance.\n",
    "* Seasonal & Temporal Insights.\n",
    "* Forecasting Using Machine Learning.\n",
    "**what do u suggest for this project? i need it to look good for polimi**"
   ]
  },
  {
   "cell_type": "code",
   "execution_count": 86,
   "id": "fd87e91c-c55d-44aa-a9ec-1794051b65d3",
   "metadata": {},
   "outputs": [],
   "source": [
    "# Importing necessarry libraries:\n",
    "import pandas as pd\n",
    "import numpy as np\n",
    "import matplotlib.pyplot as plt\n",
    "import seaborn as sns"
   ]
  },
  {
   "cell_type": "code",
   "execution_count": 57,
   "id": "ee7cacb1-fee1-4717-b2c2-114e77f662a6",
   "metadata": {},
   "outputs": [],
   "source": [
    "# Preparing data\n",
    "milan = pd.read_csv('milan-air-pollution.csv', sep=';')\n",
    "milan.columns = [\"station_id\", \"date\", \"pollutant\", \"value\"]\n",
    "milan['date'] = pd.to_datetime(milan['date'], errors='coerce')\n",
    "milan['value'] = pd.to_numeric(milan['value'], errors='coerce')\n",
    "milan.to_csv('milan_air_pollution_cleaned.csv', index=False)\n",
    "milan.tail(15000).to_csv('milan_air_pollution_sample.csv', index=False)"
   ]
  },
  {
   "cell_type": "code",
   "execution_count": 58,
   "id": "5d33f9d6-71d7-41db-95ca-36fa6d403336",
   "metadata": {},
   "outputs": [
    {
     "name": "stdout",
     "output_type": "stream",
     "text": [
      "station_id       0\n",
      "date             0\n",
      "pollutant        0\n",
      "value         3142\n",
      "dtype: int64\n"
     ]
    }
   ],
   "source": [
    "milan = pd.read_csv('milan_air_pollution_sample.csv')\n",
    "# Counting missing values\n",
    "missing_vals = milan.isnull().sum()\n",
    "print(missing_vals)"
   ]
  },
  {
   "cell_type": "code",
   "execution_count": 59,
   "id": "351e1ac2-fd35-44c4-a999-0642da603c11",
   "metadata": {},
   "outputs": [
    {
     "data": {
      "text/html": [
       "<div>\n",
       "<style scoped>\n",
       "    .dataframe tbody tr th:only-of-type {\n",
       "        vertical-align: middle;\n",
       "    }\n",
       "\n",
       "    .dataframe tbody tr th {\n",
       "        vertical-align: top;\n",
       "    }\n",
       "\n",
       "    .dataframe thead th {\n",
       "        text-align: right;\n",
       "    }\n",
       "</style>\n",
       "<table border=\"1\" class=\"dataframe\">\n",
       "  <thead>\n",
       "    <tr style=\"text-align: right;\">\n",
       "      <th></th>\n",
       "      <th>station_id</th>\n",
       "      <th>date</th>\n",
       "      <th>pollutant</th>\n",
       "      <th>value</th>\n",
       "    </tr>\n",
       "  </thead>\n",
       "  <tbody>\n",
       "    <tr>\n",
       "      <th>0</th>\n",
       "      <td>4</td>\n",
       "      <td>2023-03-10</td>\n",
       "      <td>PM25</td>\n",
       "      <td>17.0</td>\n",
       "    </tr>\n",
       "    <tr>\n",
       "      <th>1</th>\n",
       "      <td>5</td>\n",
       "      <td>2023-03-10</td>\n",
       "      <td>NO2</td>\n",
       "      <td>NaN</td>\n",
       "    </tr>\n",
       "    <tr>\n",
       "      <th>2</th>\n",
       "      <td>5</td>\n",
       "      <td>2023-03-10</td>\n",
       "      <td>O3</td>\n",
       "      <td>NaN</td>\n",
       "    </tr>\n",
       "    <tr>\n",
       "      <th>3</th>\n",
       "      <td>6</td>\n",
       "      <td>2023-03-10</td>\n",
       "      <td>C6H6</td>\n",
       "      <td>1.2</td>\n",
       "    </tr>\n",
       "    <tr>\n",
       "      <th>4</th>\n",
       "      <td>6</td>\n",
       "      <td>2023-03-10</td>\n",
       "      <td>CO_8h</td>\n",
       "      <td>0.8</td>\n",
       "    </tr>\n",
       "  </tbody>\n",
       "</table>\n",
       "</div>"
      ],
      "text/plain": [
       "   station_id        date pollutant  value\n",
       "0           4  2023-03-10      PM25   17.0\n",
       "1           5  2023-03-10       NO2    NaN\n",
       "2           5  2023-03-10        O3    NaN\n",
       "3           6  2023-03-10      C6H6    1.2\n",
       "4           6  2023-03-10     CO_8h    0.8"
      ]
     },
     "execution_count": 59,
     "metadata": {},
     "output_type": "execute_result"
    }
   ],
   "source": [
    "milan.head()"
   ]
  },
  {
   "cell_type": "code",
   "execution_count": 60,
   "id": "7f314b2b-bfdd-4ba3-bf12-3c69f5469862",
   "metadata": {},
   "outputs": [
    {
     "data": {
      "text/html": [
       "<div>\n",
       "<style scoped>\n",
       "    .dataframe tbody tr th:only-of-type {\n",
       "        vertical-align: middle;\n",
       "    }\n",
       "\n",
       "    .dataframe tbody tr th {\n",
       "        vertical-align: top;\n",
       "    }\n",
       "\n",
       "    .dataframe thead th {\n",
       "        text-align: right;\n",
       "    }\n",
       "</style>\n",
       "<table border=\"1\" class=\"dataframe\">\n",
       "  <thead>\n",
       "    <tr style=\"text-align: right;\">\n",
       "      <th></th>\n",
       "      <th>station_id</th>\n",
       "      <th>date</th>\n",
       "      <th>pollutant</th>\n",
       "      <th>value</th>\n",
       "    </tr>\n",
       "  </thead>\n",
       "  <tbody>\n",
       "    <tr>\n",
       "      <th>0</th>\n",
       "      <td>4</td>\n",
       "      <td>2023-03-10</td>\n",
       "      <td>PM25</td>\n",
       "      <td>17.00</td>\n",
       "    </tr>\n",
       "    <tr>\n",
       "      <th>1</th>\n",
       "      <td>5</td>\n",
       "      <td>2023-03-10</td>\n",
       "      <td>NO2</td>\n",
       "      <td>38.63</td>\n",
       "    </tr>\n",
       "    <tr>\n",
       "      <th>2</th>\n",
       "      <td>5</td>\n",
       "      <td>2023-03-10</td>\n",
       "      <td>O3</td>\n",
       "      <td>38.63</td>\n",
       "    </tr>\n",
       "    <tr>\n",
       "      <th>3</th>\n",
       "      <td>6</td>\n",
       "      <td>2023-03-10</td>\n",
       "      <td>C6H6</td>\n",
       "      <td>1.20</td>\n",
       "    </tr>\n",
       "    <tr>\n",
       "      <th>4</th>\n",
       "      <td>6</td>\n",
       "      <td>2023-03-10</td>\n",
       "      <td>CO_8h</td>\n",
       "      <td>0.80</td>\n",
       "    </tr>\n",
       "  </tbody>\n",
       "</table>\n",
       "</div>"
      ],
      "text/plain": [
       "   station_id        date pollutant  value\n",
       "0           4  2023-03-10      PM25  17.00\n",
       "1           5  2023-03-10       NO2  38.63\n",
       "2           5  2023-03-10        O3  38.63\n",
       "3           6  2023-03-10      C6H6   1.20\n",
       "4           6  2023-03-10     CO_8h   0.80"
      ]
     },
     "execution_count": 60,
     "metadata": {},
     "output_type": "execute_result"
    }
   ],
   "source": [
    "# Replacing NaN values in the 'values' column with values' mean\n",
    "milan = milan.assign(value=milan['value'].fillna(milan['value'].mean()))\n",
    "milan['value'] = milan['value'].round(2)\n",
    "milan.head()"
   ]
  },
  {
   "cell_type": "markdown",
   "id": "0dbba285-9822-4b32-9f6a-bce0731d4efa",
   "metadata": {},
   "source": [
    "## Trend Analysis\n",
    "The data is now clean to use. Let's illustrate an overview at our data and see how pollution levels change over t\n"
   ]
  },
  {
   "cell_type": "code",
   "execution_count": 96,
   "id": "154786fa-95b3-4680-a9b6-e83c7a34a6a8",
   "metadata": {},
   "outputs": [
    {
     "data": {
      "text/html": [
       "<iframe\n",
       "    scrolling=\"no\"\n",
       "    width=\"100%\"\n",
       "    height=\"545px\"\n",
       "    src=\"iframe_figures/figure_96.html\"\n",
       "    frameborder=\"0\"\n",
       "    allowfullscreen\n",
       "></iframe>\n"
      ]
     },
     "metadata": {},
     "output_type": "display_data"
    },
    {
     "data": {
      "text/html": [
       "<iframe\n",
       "    scrolling=\"no\"\n",
       "    width=\"100%\"\n",
       "    height=\"545px\"\n",
       "    src=\"iframe_figures/figure_96.html\"\n",
       "    frameborder=\"0\"\n",
       "    allowfullscreen\n",
       "></iframe>\n"
      ]
     },
     "metadata": {},
     "output_type": "display_data"
    }
   ],
   "source": [
    "import plotly.io as pio\n",
    "import plotly.express as px\n",
    "pio.renderers.default = 'iframe_connected'\n",
    "avgmilan = milan.groupby(['year'])['value'].mean().reset_index()\n",
    "fig = px.line(avgmilan, x='year', y='value',\n",
    "              title='Pollution Trends in Milan')\n",
    "fig.show()\n",
    "avg_by_pollutant = milan.groupby(['year', 'pollutant'])['value'].mean().reset_index()\n",
    "fig = px.line(avg_by_pollutant, x='year', y='value', color='pollutant',\n",
    "              title='Pollution Trends in Milan by Pollutant')\n",
    "fig.show()"
   ]
  },
  {
   "cell_type": "markdown",
   "id": "e0f89d27-4490-403d-b0ef-7b442dcf685a",
   "metadata": {},
   "source": [
    "I used plotly to make the plots easier to understand as this library is more interactive and we're working with complex data. You can download the plot as a PNG file, zoom in, pan, reset axes etc. To go further with this analysis, simply click on the pollutant of your liking displayed in the legend tab to make it disappear, and double click on legend to isolate once trace to get a better understanding of how each pollutant changes thoughout the years.<br>\n",
    "The plots above depict total annual pollution concentration in Milan from 2017 to 2024, and each pollutant behaves differently over time:\n",
    "* NO₂ and CO_8h: These show a declining trend, especially post-2020 — likely linked to reduced traffic and industrial activity.\n",
    "* PM10 and PM2.5: These fluctuate but seem to drop sharply around 2021–2022, possibly due to cleaner transport or lockdown effects.\n",
    "* O₃ (Ozone): Often behaves inversely to NO₂ — when NO₂ drops, O₃ can rise due to reduced NOx scavenging.\n",
    "* C₆H₆ (Benzene) and SO₂: If they remain relatively stable or spike, it could point to specific industrial sources or seasonal heating.\n",
    "* Pollution levels in 2024 seem to remain low — suggesting that whatever caused the drop may have had lasting effects.\n",
    "\n",
    "That’s a good sign and suggests a significant shift in pollution patterns, possibly due to:\n",
    "1. Policy changes (e.g. traffic restrictions, industrial regulations)\n",
    "2. COVID-era lockdowns (especially in 2020–2021)\n",
    "3. Environmental initiatives or tech upgrades (like cleaner public transport)"
   ]
  },
  {
   "cell_type": "markdown",
   "id": "97552258-ae55-4344-920b-ce30c5fc60fa",
   "metadata": {},
   "source": [
    "## Weekday Analysis\n",
    "To understand behavioral or traffic-related pollution dynamics, we are going to dive into **weekly patterns**.<br>\n",
    "### Why Weekly Analysis Matters:\n",
    "* Traffic emissions tend to spike on weekdays, especially Mondays and Fridays.\n",
    "\n",
    "* Industrial activity often follows a weekly rhythm.\n",
    "\n",
    "* Public health planning benefits from knowing which days are riskier.\n",
    "\n",
    "*While analyzing pollution trends by weekday, I noticed that data for Saturday and Sunday is missing from the dataset. This absence could be due to gaps in data collection, sensor downtime, or reporting inconsistencies during weekends. As a result, the weekday analysis reflects only Monday through Friday, and any conclusions drawn should be interpreted with this limitation in mind.*"
   ]
  },
  {
   "cell_type": "code",
   "execution_count": 103,
   "id": "fed20186-16db-4b25-8fb9-2415b07cbd90",
   "metadata": {},
   "outputs": [
    {
     "data": {
      "text/html": [
       "<iframe\n",
       "    scrolling=\"no\"\n",
       "    width=\"100%\"\n",
       "    height=\"545px\"\n",
       "    src=\"iframe_figures/figure_103.html\"\n",
       "    frameborder=\"0\"\n",
       "    allowfullscreen\n",
       "></iframe>\n"
      ]
     },
     "metadata": {},
     "output_type": "display_data"
    }
   ],
   "source": [
    "milan['weekday'] = milan['date'].dt.day_name()\n",
    "weekday_avg = milan.groupby(['weekday', 'pollutant'])['value'].mean().reset_index()\n",
    "weekday_order = ['Monday', 'Tuesday', 'Wednesday', 'Thursday', 'Friday', 'Saturday', 'Sunday']\n",
    "weekday_avg['weekday'] = pd.Categorical(weekday_avg['weekday'], categories=weekday_order, ordered=True)\n",
    "weekday_avg.sort_values('weekday', inplace=True)\n",
    "fig = px.box(milan, x='weekday', y='value', color='pollutant', title='Pollution Distribution by Weekday')\n",
    "fig.show()"
   ]
  },
  {
   "cell_type": "markdown",
   "id": "86947ffc-4c67-4098-b545-648119ea5cab",
   "metadata": {},
   "source": [
    "**By hovering over each box, you’ll gain insight into each pollutant’s distribution across weekdays.**"
   ]
  },
  {
   "cell_type": "code",
   "execution_count": null,
   "id": "58fb3fa3-78ea-492d-b927-4ff880cf6e86",
   "metadata": {},
   "outputs": [],
   "source": []
  }
 ],
 "metadata": {
  "kernelspec": {
   "display_name": "Python 3 (ipykernel)",
   "language": "python",
   "name": "python3"
  },
  "language_info": {
   "codemirror_mode": {
    "name": "ipython",
    "version": 3
   },
   "file_extension": ".py",
   "mimetype": "text/x-python",
   "name": "python",
   "nbconvert_exporter": "python",
   "pygments_lexer": "ipython3",
   "version": "3.12.4"
  }
 },
 "nbformat": 4,
 "nbformat_minor": 5
}
